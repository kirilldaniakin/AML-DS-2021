File was too big to upload to GitHub:
https://colab.research.google.com/drive/15iLQiom8VF7Fn8ixocXimm9OM2HmJIj_?usp=sharing
